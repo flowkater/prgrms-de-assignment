{
  "nbformat": 4,
  "nbformat_minor": 0,
  "metadata": {
    "colab": {
      "name": "Redshift Testing의 사본",
      "provenance": [],
      "collapsed_sections": []
    },
    "kernelspec": {
      "name": "python3",
      "display_name": "Python 3"
    }
  },
  "cells": [
    {
      "cell_type": "code",
      "metadata": {
        "id": "ePY_5ad7CYtR",
        "colab_type": "code",
        "colab": {
          "base_uri": "https://localhost:8080/",
          "height": 71
        },
        "outputId": "d6a3887a-2e86-4b3a-fcec-07312205b034"
      },
      "source": [
        "import psycopg2"
      ],
      "execution_count": 2,
      "outputs": [
        {
          "output_type": "stream",
          "text": [
            "/usr/local/lib/python3.6/dist-packages/psycopg2/__init__.py:144: UserWarning: The psycopg2 wheel package will be renamed from release 2.8; in order to keep installing from binary please use \"pip install psycopg2-binary\" instead. For details see: <http://initd.org/psycopg/docs/install.html#binary-install-from-pypi>.\n",
            "  \"\"\")\n"
          ],
          "name": "stderr"
        }
      ]
    },
    {
      "cell_type": "code",
      "metadata": {
        "id": "vMCQFA-FDDKB",
        "colab_type": "code",
        "colab": {}
      },
      "source": [
        "def get_Redshift_connection():\n",
        "    host = \"grepp-data.cduaw970ssvt.ap-northeast-2.redshift.amazonaws.com\"\n",
        "    redshift_user = \"chjw102\"\n",
        "    redshift_pass = \"Chjw1021!\"\n",
        "    port = 5439\n",
        "    dbname = \"dev\"\n",
        "    conn = psycopg2.connect(\"dbname={dbname} user={user} host={host} password={password} port={port}\".format(\n",
        "        dbname=dbname,\n",
        "        user=redshift_user,\n",
        "        password=redshift_pass,\n",
        "        host=host,\n",
        "        port=port\n",
        "    ))\n",
        "    conn.set_session(readonly=True, autocommit=True)\n",
        "    return conn"
      ],
      "execution_count": 3,
      "outputs": []
    },
    {
      "cell_type": "code",
      "metadata": {
        "id": "RGYLtLKtHHPC",
        "colab_type": "code",
        "colab": {}
      },
      "source": [
        "conn = get_Redshift_connection()\n",
        "\n",
        "sql_timestamp = \"SELECT * FROM raw_data.session_timestamp;\"\n",
        "sql_users = \"SELECT * FROM raw_data.user_session_channel;\""
      ],
      "execution_count": 4,
      "outputs": []
    },
    {
      "cell_type": "code",
      "metadata": {
        "id": "pfeYYVoRKwbA",
        "colab_type": "code",
        "colab": {}
      },
      "source": [
        "import pandas.io.sql as sqlio\n",
        "import pandas as pd"
      ],
      "execution_count": 5,
      "outputs": []
    },
    {
      "cell_type": "code",
      "metadata": {
        "id": "vSrgRV65K7xb",
        "colab_type": "code",
        "colab": {}
      },
      "source": [
        "df_timestamp = sqlio.read_sql_query(sql_timestamp,conn)\n",
        "df_users = sqlio.read_sql_query(sql_users,conn)"
      ],
      "execution_count": 6,
      "outputs": []
    },
    {
      "cell_type": "code",
      "metadata": {
        "id": "F0IUfKh4LCNX",
        "colab_type": "code",
        "colab": {
          "base_uri": "https://localhost:8080/",
          "height": 204
        },
        "outputId": "80533ee2-302b-4785-9966-8adb797d1ff2"
      },
      "source": [
        "df_timestamp.head()"
      ],
      "execution_count": 7,
      "outputs": [
        {
          "output_type": "execute_result",
          "data": {
            "text/html": [
              "<div>\n",
              "<style scoped>\n",
              "    .dataframe tbody tr th:only-of-type {\n",
              "        vertical-align: middle;\n",
              "    }\n",
              "\n",
              "    .dataframe tbody tr th {\n",
              "        vertical-align: top;\n",
              "    }\n",
              "\n",
              "    .dataframe thead th {\n",
              "        text-align: right;\n",
              "    }\n",
              "</style>\n",
              "<table border=\"1\" class=\"dataframe\">\n",
              "  <thead>\n",
              "    <tr style=\"text-align: right;\">\n",
              "      <th></th>\n",
              "      <th>sessionid</th>\n",
              "      <th>ts</th>\n",
              "    </tr>\n",
              "  </thead>\n",
              "  <tbody>\n",
              "    <tr>\n",
              "      <th>0</th>\n",
              "      <td>c41dd99a69df04044aa4e33ece9c9249</td>\n",
              "      <td>2019-05-01 00:35:59.897</td>\n",
              "    </tr>\n",
              "    <tr>\n",
              "      <th>1</th>\n",
              "      <td>fdc0eb412a84fa549afe68373d9087e9</td>\n",
              "      <td>2019-05-01 02:53:48.503</td>\n",
              "    </tr>\n",
              "    <tr>\n",
              "      <th>2</th>\n",
              "      <td>0a54b19a13b6712dc04d1b49215423d8</td>\n",
              "      <td>2019-05-01 12:18:26.637</td>\n",
              "    </tr>\n",
              "    <tr>\n",
              "      <th>3</th>\n",
              "      <td>a914ecef9c12ffdb9bede64bb703d877</td>\n",
              "      <td>2019-05-01 13:41:29.267</td>\n",
              "    </tr>\n",
              "    <tr>\n",
              "      <th>4</th>\n",
              "      <td>05ae14d7ae387b93370d142d82220f1b</td>\n",
              "      <td>2019-05-01 14:17:54.083</td>\n",
              "    </tr>\n",
              "  </tbody>\n",
              "</table>\n",
              "</div>"
            ],
            "text/plain": [
              "                          sessionid                      ts\n",
              "0  c41dd99a69df04044aa4e33ece9c9249 2019-05-01 00:35:59.897\n",
              "1  fdc0eb412a84fa549afe68373d9087e9 2019-05-01 02:53:48.503\n",
              "2  0a54b19a13b6712dc04d1b49215423d8 2019-05-01 12:18:26.637\n",
              "3  a914ecef9c12ffdb9bede64bb703d877 2019-05-01 13:41:29.267\n",
              "4  05ae14d7ae387b93370d142d82220f1b 2019-05-01 14:17:54.083"
            ]
          },
          "metadata": {
            "tags": []
          },
          "execution_count": 7
        }
      ]
    },
    {
      "cell_type": "code",
      "metadata": {
        "id": "JYmuKLXvXWTU",
        "colab_type": "code",
        "colab": {
          "base_uri": "https://localhost:8080/",
          "height": 204
        },
        "outputId": "26837dd3-81e3-45e9-cba8-e0b94a4b9591"
      },
      "source": [
        "df_users.head()"
      ],
      "execution_count": 8,
      "outputs": [
        {
          "output_type": "execute_result",
          "data": {
            "text/html": [
              "<div>\n",
              "<style scoped>\n",
              "    .dataframe tbody tr th:only-of-type {\n",
              "        vertical-align: middle;\n",
              "    }\n",
              "\n",
              "    .dataframe tbody tr th {\n",
              "        vertical-align: top;\n",
              "    }\n",
              "\n",
              "    .dataframe thead th {\n",
              "        text-align: right;\n",
              "    }\n",
              "</style>\n",
              "<table border=\"1\" class=\"dataframe\">\n",
              "  <thead>\n",
              "    <tr style=\"text-align: right;\">\n",
              "      <th></th>\n",
              "      <th>userid</th>\n",
              "      <th>sessionid</th>\n",
              "      <th>channel</th>\n",
              "    </tr>\n",
              "  </thead>\n",
              "  <tbody>\n",
              "    <tr>\n",
              "      <th>0</th>\n",
              "      <td>779</td>\n",
              "      <td>7cdace91c487558e27ce54df7cdb299c</td>\n",
              "      <td>Instagram</td>\n",
              "    </tr>\n",
              "    <tr>\n",
              "      <th>1</th>\n",
              "      <td>230</td>\n",
              "      <td>94f192dee566b018e0acf31e1f99a2d9</td>\n",
              "      <td>Naver</td>\n",
              "    </tr>\n",
              "    <tr>\n",
              "      <th>2</th>\n",
              "      <td>369</td>\n",
              "      <td>7ed2d3454c5eea71148b11d0c25104ff</td>\n",
              "      <td>Youtube</td>\n",
              "    </tr>\n",
              "    <tr>\n",
              "      <th>3</th>\n",
              "      <td>248</td>\n",
              "      <td>f1daf122cde863010844459363cd31db</td>\n",
              "      <td>Naver</td>\n",
              "    </tr>\n",
              "    <tr>\n",
              "      <th>4</th>\n",
              "      <td>676</td>\n",
              "      <td>fd0efcca272f704a760c3b61dcc70fd0</td>\n",
              "      <td>Instagram</td>\n",
              "    </tr>\n",
              "  </tbody>\n",
              "</table>\n",
              "</div>"
            ],
            "text/plain": [
              "   userid                         sessionid    channel\n",
              "0     779  7cdace91c487558e27ce54df7cdb299c  Instagram\n",
              "1     230  94f192dee566b018e0acf31e1f99a2d9      Naver\n",
              "2     369  7ed2d3454c5eea71148b11d0c25104ff    Youtube\n",
              "3     248  f1daf122cde863010844459363cd31db      Naver\n",
              "4     676  fd0efcca272f704a760c3b61dcc70fd0  Instagram"
            ]
          },
          "metadata": {
            "tags": []
          },
          "execution_count": 8
        }
      ]
    },
    {
      "cell_type": "code",
      "metadata": {
        "id": "f-LyoarwXYX-",
        "colab_type": "code",
        "colab": {
          "base_uri": "https://localhost:8080/",
          "height": 204
        },
        "outputId": "7f2b5625-4946-4934-ef84-43d82740deff"
      },
      "source": [
        "df = pd.merge(df_timestamp, df_users, on='sessionid', how='left')\n",
        "df.head()"
      ],
      "execution_count": 9,
      "outputs": [
        {
          "output_type": "execute_result",
          "data": {
            "text/html": [
              "<div>\n",
              "<style scoped>\n",
              "    .dataframe tbody tr th:only-of-type {\n",
              "        vertical-align: middle;\n",
              "    }\n",
              "\n",
              "    .dataframe tbody tr th {\n",
              "        vertical-align: top;\n",
              "    }\n",
              "\n",
              "    .dataframe thead th {\n",
              "        text-align: right;\n",
              "    }\n",
              "</style>\n",
              "<table border=\"1\" class=\"dataframe\">\n",
              "  <thead>\n",
              "    <tr style=\"text-align: right;\">\n",
              "      <th></th>\n",
              "      <th>sessionid</th>\n",
              "      <th>ts</th>\n",
              "      <th>userid</th>\n",
              "      <th>channel</th>\n",
              "    </tr>\n",
              "  </thead>\n",
              "  <tbody>\n",
              "    <tr>\n",
              "      <th>0</th>\n",
              "      <td>c41dd99a69df04044aa4e33ece9c9249</td>\n",
              "      <td>2019-05-01 00:35:59.897</td>\n",
              "      <td>184</td>\n",
              "      <td>Naver</td>\n",
              "    </tr>\n",
              "    <tr>\n",
              "      <th>1</th>\n",
              "      <td>fdc0eb412a84fa549afe68373d9087e9</td>\n",
              "      <td>2019-05-01 02:53:48.503</td>\n",
              "      <td>80</td>\n",
              "      <td>Organic</td>\n",
              "    </tr>\n",
              "    <tr>\n",
              "      <th>2</th>\n",
              "      <td>0a54b19a13b6712dc04d1b49215423d8</td>\n",
              "      <td>2019-05-01 12:18:26.637</td>\n",
              "      <td>251</td>\n",
              "      <td>Facebook</td>\n",
              "    </tr>\n",
              "    <tr>\n",
              "      <th>3</th>\n",
              "      <td>a914ecef9c12ffdb9bede64bb703d877</td>\n",
              "      <td>2019-05-01 13:41:29.267</td>\n",
              "      <td>264</td>\n",
              "      <td>Google</td>\n",
              "    </tr>\n",
              "    <tr>\n",
              "      <th>4</th>\n",
              "      <td>05ae14d7ae387b93370d142d82220f1b</td>\n",
              "      <td>2019-05-01 14:17:54.083</td>\n",
              "      <td>744</td>\n",
              "      <td>Facebook</td>\n",
              "    </tr>\n",
              "  </tbody>\n",
              "</table>\n",
              "</div>"
            ],
            "text/plain": [
              "                          sessionid                      ts  userid   channel\n",
              "0  c41dd99a69df04044aa4e33ece9c9249 2019-05-01 00:35:59.897     184     Naver\n",
              "1  fdc0eb412a84fa549afe68373d9087e9 2019-05-01 02:53:48.503      80   Organic\n",
              "2  0a54b19a13b6712dc04d1b49215423d8 2019-05-01 12:18:26.637     251  Facebook\n",
              "3  a914ecef9c12ffdb9bede64bb703d877 2019-05-01 13:41:29.267     264    Google\n",
              "4  05ae14d7ae387b93370d142d82220f1b 2019-05-01 14:17:54.083     744  Facebook"
            ]
          },
          "metadata": {
            "tags": []
          },
          "execution_count": 9
        }
      ]
    },
    {
      "cell_type": "code",
      "metadata": {
        "id": "RblmTfy_aCLo",
        "colab_type": "code",
        "colab": {
          "base_uri": "https://localhost:8080/",
          "height": 204
        },
        "outputId": "a00a8c9d-90db-4085-8683-80a836ca6909"
      },
      "source": [
        "df['year-month'] = df['ts'].apply(lambda x: x.strftime(\"%Y-%m\"))\n",
        "df.head()"
      ],
      "execution_count": 10,
      "outputs": [
        {
          "output_type": "execute_result",
          "data": {
            "text/html": [
              "<div>\n",
              "<style scoped>\n",
              "    .dataframe tbody tr th:only-of-type {\n",
              "        vertical-align: middle;\n",
              "    }\n",
              "\n",
              "    .dataframe tbody tr th {\n",
              "        vertical-align: top;\n",
              "    }\n",
              "\n",
              "    .dataframe thead th {\n",
              "        text-align: right;\n",
              "    }\n",
              "</style>\n",
              "<table border=\"1\" class=\"dataframe\">\n",
              "  <thead>\n",
              "    <tr style=\"text-align: right;\">\n",
              "      <th></th>\n",
              "      <th>sessionid</th>\n",
              "      <th>ts</th>\n",
              "      <th>userid</th>\n",
              "      <th>channel</th>\n",
              "      <th>year-month</th>\n",
              "    </tr>\n",
              "  </thead>\n",
              "  <tbody>\n",
              "    <tr>\n",
              "      <th>0</th>\n",
              "      <td>c41dd99a69df04044aa4e33ece9c9249</td>\n",
              "      <td>2019-05-01 00:35:59.897</td>\n",
              "      <td>184</td>\n",
              "      <td>Naver</td>\n",
              "      <td>2019-05</td>\n",
              "    </tr>\n",
              "    <tr>\n",
              "      <th>1</th>\n",
              "      <td>fdc0eb412a84fa549afe68373d9087e9</td>\n",
              "      <td>2019-05-01 02:53:48.503</td>\n",
              "      <td>80</td>\n",
              "      <td>Organic</td>\n",
              "      <td>2019-05</td>\n",
              "    </tr>\n",
              "    <tr>\n",
              "      <th>2</th>\n",
              "      <td>0a54b19a13b6712dc04d1b49215423d8</td>\n",
              "      <td>2019-05-01 12:18:26.637</td>\n",
              "      <td>251</td>\n",
              "      <td>Facebook</td>\n",
              "      <td>2019-05</td>\n",
              "    </tr>\n",
              "    <tr>\n",
              "      <th>3</th>\n",
              "      <td>a914ecef9c12ffdb9bede64bb703d877</td>\n",
              "      <td>2019-05-01 13:41:29.267</td>\n",
              "      <td>264</td>\n",
              "      <td>Google</td>\n",
              "      <td>2019-05</td>\n",
              "    </tr>\n",
              "    <tr>\n",
              "      <th>4</th>\n",
              "      <td>05ae14d7ae387b93370d142d82220f1b</td>\n",
              "      <td>2019-05-01 14:17:54.083</td>\n",
              "      <td>744</td>\n",
              "      <td>Facebook</td>\n",
              "      <td>2019-05</td>\n",
              "    </tr>\n",
              "  </tbody>\n",
              "</table>\n",
              "</div>"
            ],
            "text/plain": [
              "                          sessionid  ... year-month\n",
              "0  c41dd99a69df04044aa4e33ece9c9249  ...    2019-05\n",
              "1  fdc0eb412a84fa549afe68373d9087e9  ...    2019-05\n",
              "2  0a54b19a13b6712dc04d1b49215423d8  ...    2019-05\n",
              "3  a914ecef9c12ffdb9bede64bb703d877  ...    2019-05\n",
              "4  05ae14d7ae387b93370d142d82220f1b  ...    2019-05\n",
              "\n",
              "[5 rows x 5 columns]"
            ]
          },
          "metadata": {
            "tags": []
          },
          "execution_count": 10
        }
      ]
    },
    {
      "cell_type": "code",
      "metadata": {
        "id": "ue2aYUCKd250",
        "colab_type": "code",
        "colab": {}
      },
      "source": [
        "grouped = df.groupby('year-month')"
      ],
      "execution_count": 11,
      "outputs": []
    },
    {
      "cell_type": "code",
      "metadata": {
        "id": "f9DbmtKhaB8O",
        "colab_type": "code",
        "colab": {
          "base_uri": "https://localhost:8080/",
          "height": 170
        },
        "outputId": "ee697dd8-3127-4c41-d5a2-e4dc5f1a4504"
      },
      "source": [
        "grouped.userid.nunique()"
      ],
      "execution_count": 15,
      "outputs": [
        {
          "output_type": "execute_result",
          "data": {
            "text/plain": [
              "year-month\n",
              "2019-05    281\n",
              "2019-06    459\n",
              "2019-07    623\n",
              "2019-08    662\n",
              "2019-09    639\n",
              "2019-10    763\n",
              "2019-11    721\n",
              "Name: userid, dtype: int64"
            ]
          },
          "metadata": {
            "tags": []
          },
          "execution_count": 15
        }
      ]
    },
    {
      "cell_type": "code",
      "metadata": {
        "id": "TDT40vltXXQb",
        "colab_type": "code",
        "colab": {}
      },
      "source": [
        ""
      ],
      "execution_count": 11,
      "outputs": []
    }
  ]
}